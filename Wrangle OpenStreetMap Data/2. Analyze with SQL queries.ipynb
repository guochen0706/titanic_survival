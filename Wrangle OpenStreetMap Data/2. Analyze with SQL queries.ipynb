{
 "cells": [
  {
   "cell_type": "code",
   "execution_count": 1,
   "metadata": {
    "collapsed": true
   },
   "outputs": [],
   "source": [
    "import sqlite3"
   ]
  },
  {
   "cell_type": "code",
   "execution_count": 2,
   "metadata": {
    "collapsed": false
   },
   "outputs": [
    {
     "name": "stdout",
     "output_type": "stream",
     "text": [
      "(u'Canyon Circle East',)\n",
      "(u'E 51st St',)\n",
      "(u'Ledgeway East',)\n",
      "(u'Rapid Springs Cove East',)\n",
      "(u'Red River St',)\n",
      "(u'W 10th St',)\n"
     ]
    }
   ],
   "source": [
    "con=sqlite3.connect('austin_texas.db')\n",
    "cursor = con.cursor()\n",
    "\n",
    "zip = cursor.execute(\"Select distinct value from ways_tags WHERE key like '%street%' and value like '%st';\")\n",
    "for i in cursor.fetchall():\n",
    "    print i\n"
   ]
  },
  {
   "cell_type": "code",
   "execution_count": 4,
   "metadata": {
    "collapsed": false
   },
   "outputs": [
    {
     "name": "stdout",
     "output_type": "stream",
     "text": [
      "[(736203,)]\n",
      "[(52703,)]\n",
      "[(82267,)]\n",
      "[(288044,)]\n",
      "[(812361,)]\n"
     ]
    }
   ],
   "source": [
    "# Explore the size of the database\n",
    "con=sqlite3.connect('austin_texas.db')\n",
    "cursor = con.cursor()\n",
    "\n",
    "cursor.execute(\"Select Count(*) From nodes\")\n",
    "print cursor.fetchall()\n",
    "cursor.execute(\"Select Count(*) From nodes_tags\")\n",
    "print cursor.fetchall()\n",
    "cursor.execute(\"Select Count(*) From ways\")\n",
    "print cursor.fetchall()\n",
    "cursor.execute(\"Select Count(*) From ways_tags\")\n",
    "print cursor.fetchall()\n",
    "cursor.execute(\"Select Count(*) From ways_nodes\")\n",
    "print cursor.fetchall()\n",
    "\n",
    "con.commit()"
   ]
  },
  {
   "cell_type": "code",
   "execution_count": 5,
   "metadata": {
    "collapsed": false
   },
   "outputs": [
    {
     "name": "stdout",
     "output_type": "stream",
     "text": [
      "381\n",
      "431\n"
     ]
    }
   ],
   "source": [
    "# Explore number of unique users\n",
    "\n",
    "con=sqlite3.connect('austin_texas.db')\n",
    "cursor = con.cursor()\n",
    "\n",
    "cursor.execute(\"Select Count(Distinct uid) From nodes\")\n",
    "print cursor.fetchall()[0][0]\n",
    "cursor.execute(\"SELECT COUNT(DISTINCT(e.uid)) FROM (SELECT uid FROM nodes UNION ALL SELECT uid FROM ways) e;\")\n",
    "print cursor.fetchall()[0][0]"
   ]
  },
  {
   "cell_type": "code",
   "execution_count": 6,
   "metadata": {
    "collapsed": false
   },
   "outputs": [
    {
     "name": "stdout",
     "output_type": "stream",
     "text": [
      "736203\n",
      "18271\n",
      "82267\n",
      "81526\n"
     ]
    }
   ],
   "source": [
    "# Explore number of nodes and ways\n",
    "\n",
    "con=sqlite3.connect('austin_texas.db')\n",
    "cursor = con.cursor()\n",
    "\n",
    "cursor.execute(\"Select Count(Distinct id) From nodes\")\n",
    "print cursor.fetchall()[0][0]\n",
    "cursor.execute(\"Select Count(Distinct id) From nodes_tags\")\n",
    "print cursor.fetchall()[0][0]\n",
    "cursor.execute(\"Select Count(Distinct id) From ways\")\n",
    "print cursor.fetchall()[0][0]\n",
    "cursor.execute(\"Select Count(Distinct id) From ways_tags\")\n",
    "print cursor.fetchall()[0][0]\n"
   ]
  },
  {
   "cell_type": "markdown",
   "metadata": {},
   "source": [
    "There are 736203 unique nodes,and 18271 of them have tagss\n",
    "There are 82267 unique ways, and 81526 of them have tags"
   ]
  },
  {
   "cell_type": "code",
   "execution_count": 7,
   "metadata": {
    "collapsed": false
   },
   "outputs": [
    {
     "name": "stdout",
     "output_type": "stream",
     "text": [
      "76\n",
      "21\n"
     ]
    }
   ],
   "source": [
    "# Explore number of chosen types of nodes, like cafes and shops\n",
    "\n",
    "con=sqlite3.connect('austin_texas.db')\n",
    "cursor = con.cursor()\n",
    "\n",
    "cursor.execute(\"\"\"Select count(distinct id) From nodes_tags Where value Like \"%cafe%\" \"\"\")\n",
    "print cursor.fetchall()[0][0]\n",
    "\n",
    "cursor.execute(\"\"\"Select  count(distinct id) From nodes_tags Where value Like \"%shop%\" \"\"\")\n",
    "print cursor.fetchall()[0][0]"
   ]
  },
  {
   "cell_type": "code",
   "execution_count": 9,
   "metadata": {
    "collapsed": false
   },
   "outputs": [
    {
     "name": "stdout",
     "output_type": "stream",
     "text": [
      "Longview Street\n"
     ]
    }
   ],
   "source": [
    "# Explore number of ways on Longview St\n",
    "con=sqlite3.connect('austin_texas.db')\n",
    "cursor = con.cursor()\n",
    "\n",
    "cursor.execute(\"\"\"Select ways_tags.value, Count(Distinct id) From ways_tags Where ways_tags.value like \"%Longview%\" \"\"\")\n",
    "print cursor.fetchall()[0][0]"
   ]
  },
  {
   "cell_type": "markdown",
   "metadata": {},
   "source": [
    "##Improvements:\n",
    "####1. Complete the tags for all the nodes.\n",
    "There are only 1148 nodes out of 32714 have tags, so one of the main contribution could be add tags for all the other nodes.\n",
    "####2. Specify all the street types.\n",
    "In some cases it's very hard to detect a possible street. For example we can correct \"Rio Grande St\" into \"Rio Grande  Street\". But if the original value is \"Rio Grande\", then it's very hard to correct this and all similar ones programmatically.\n",
    "\n",
    "####3. Benefits and problems:\n",
    "The benefits are clear: the data will be more accurate and complete, so we could extract more valuable information out of it. The problem is they both require a lot of effort to do."
   ]
  }
 ],
 "metadata": {
  "kernelspec": {
   "display_name": "Python 2",
   "language": "python",
   "name": "python2"
  },
  "language_info": {
   "codemirror_mode": {
    "name": "ipython",
    "version": 2
   },
   "file_extension": ".py",
   "mimetype": "text/x-python",
   "name": "python",
   "nbconvert_exporter": "python",
   "pygments_lexer": "ipython2",
   "version": "2.7.11"
  }
 },
 "nbformat": 4,
 "nbformat_minor": 0
}
