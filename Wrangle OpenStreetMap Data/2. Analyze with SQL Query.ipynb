{
 "cells": [
  {
   "cell_type": "markdown",
   "metadata": {},
   "source": [
    "# OpenStreetMap Case Study"
   ]
  },
  {
   "cell_type": "markdown",
   "metadata": {},
   "source": [
    "###Map Area\n",
    "\n",
    "Austin, TX, United States"
   ]
  },
  {
   "cell_type": "markdown",
   "metadata": {},
   "source": [
    "I have been living in Austin for 3 years. I feel excited to explore this city on OpenStreetMap "
   ]
  },
  {
   "cell_type": "markdown",
   "metadata": {},
   "source": [
    "###Data Overview\n",
    "Because the full OSM file for Austin is more than 1.2 GB, I chosen a portion of it."
   ]
  },
  {
   "cell_type": "markdown",
   "metadata": {},
   "source": [
    "####File Size\n",
    "    austin_texas.osm ....... 158 MB\n",
    "    austin_texas.db ........ 93 MB\n",
    "    nodes.csv .............. 66 MB\n",
    "    nodes_tags.csv ......... 1.9 MB\n",
    "    ways.csv ............... 5.6 MB\n",
    "    ways_tags.csv .......... 9.4 MB\n",
    "    ways_nodes.csv ......... 20 MB"
   ]
  },
  {
   "cell_type": "markdown",
   "metadata": {},
   "source": [
    "#### Number of nodes\n",
    "    Select Count(*) From nodes\n",
    "736203"
   ]
  },
  {
   "cell_type": "markdown",
   "metadata": {},
   "source": [
    "#### Number of ways\n",
    "    Select Count(*) From ways\n",
    "82267"
   ]
  },
  {
   "cell_type": "markdown",
   "metadata": {},
   "source": [
    "#### Number of Unique Users\n",
    "    SELECT COUNT(DISTINCT(e.uid)) FROM (SELECT uid FROM nodes UNION ALL SELECT uid FROM ways) e;\n",
    "431"
   ]
  },
  {
   "cell_type": "markdown",
   "metadata": {},
   "source": [
    "#### Number of chosen types of nodes, like cafes and shops\n",
    "    Cafe:\n",
    "    Select count(distinct id) From nodes_tags Where value Like \"%cafe%\"\n",
    "76"
   ]
  },
  {
   "cell_type": "markdown",
   "metadata": {},
   "source": [
    "    Shop:\n",
    "    Select count(distinct id) From nodes_tags Where value Like \"%shop%\n",
    "21"
   ]
  },
  {
   "cell_type": "markdown",
   "metadata": {},
   "source": [
    "###Problems Encountered"
   ]
  },
  {
   "cell_type": "markdown",
   "metadata": {},
   "source": [
    "I notice following problems associated with the data.\n",
    "- Overabbreviated street names, such as \"E. 43rd St.\"\n",
    "- Street Names pulled in second level 'k' pulled from Tiger GPS data are divided into segments, like following:\n",
    "    <tag k=\"tiger:name_base\" v=\"2nd\"/> \n",
    "    <tag k=\"tiger:name_direction_prefix\" v=\"S\"/> \n",
    "    <tag k=\"tiger:name_type\" v=\"St\"/>"
   ]
  },
  {
   "cell_type": "markdown",
   "metadata": {},
   "source": [
    "#### Overabbreviated street names\n",
    "After converting data to database, running some simple query would reveal problems of overabbreviated street names. My way to deal with this is to create a function to individually check each street name, and if it violates the rule, that function will update the street name.\n",
    "\n",
    "    def update(name, mapping):\n",
    "        words = name.split()\n",
    "        for w in range(len(words)):\n",
    "            if words[w] in mapping:\n",
    "                words[w] = mapping[words[w]]\n",
    "        name = \" \".join(words)\n",
    "        return name\n",
    "    \n",
    "And also update my mapping dictionary:\n",
    "\n",
    "    mapping = { \"St\": \"Street\", \"St.\": \"Street\",\n",
    "                \"Ave\": \"Avenue\", \"Ave.\": \"Avenue\",\n",
    "                \"Rd\": \"Road\", \"Rd.\": \"Road\"\n",
    "                \"E\": \"East\", \"E.\": \"East\",\n",
    "                \"W\": \"West\", \"W.\": \"West\",\n",
    "                \"N\": \"North\", \"N.\": \"North\",\n",
    "                \"S\": \"South\", \"S.\": \"South\"}\n",
    "\n",
    "This update my problematic string \"E 43rd St.\" to \"East 43rd Street."
   ]
  },
  {
   "cell_type": "markdown",
   "metadata": {},
   "source": [
    "### Additional Ideas"
   ]
  },
  {
   "cell_type": "markdown",
   "metadata": {},
   "source": [
    "#### Top Contributors\n",
    "    select count(e.user) from (select user from nodes union all select user from ways) e \n",
    "\n",
    "818470\n",
    "\n",
    "    select e.user, count(e.user) from (select user from nodes union all select user from ways) e \n",
    "    group by e.user\n",
    "    order by count(e.user) desc\n",
    "    \n",
    "patisilva_atxbuildings 334716\n",
    "\n",
    "jseppi_atxbuildings 201431\n",
    "\n",
    "......\n",
    "\n",
    "\n",
    "- pastisilva_atxbuildings contributes 40.90% of total.\n",
    "- pastisilva and jseppi combined contribute 65.51% of total.\n",
    "- Top 10 contributors combined contribute 90.36%."
   ]
  },
  {
   "cell_type": "markdown",
   "metadata": {},
   "source": [
    "#### Additional Data Investigation\n",
    "\n",
    "    select value, count(value) as count from nodes_tags\n",
    "    where key = 'cuisine'\n",
    "    group by value\n",
    "    order by count desc\n",
    "\n",
    "Top 10 Cuisines\n",
    "\n",
    "    mexican    31\n",
    "    sandwich   16\n",
    "    pizza      15\n",
    "    burger     10\n",
    "    coffe_shop 10\n",
    "    american   8\n",
    "    thai       7\n",
    "    italian    6\n",
    "    indian     5\n",
    "    regional   5"
   ]
  },
  {
   "cell_type": "markdown",
   "metadata": {},
   "source": [
    "### Improvements and Conclusion\n",
    "\n",
    "In this project, I investigated Austin's OpenStreetMap data. After downloading XML data, I work through the XML -> CSV -> SQLite pipeline to generate my sqlite database. And I wrote various kinds of SQL queries to overview the data and checked the data quality. After noticing overabbreviated street names problem, I used function to update them to my expected street names. \n",
    "\n",
    "Some of improvements I can think of are:\n",
    "####1. Complete the tags for all the nodes.\n",
    "There are only 1148 nodes out of 32714 have tags, so one of the main contribution could be add tags for all the other nodes.\n",
    "####2. Specify all the street types.\n",
    "In some cases it's very hard to detect a possible street. For example we can correct \"Rio Grande St\" into \"Rio Grande  Street\". But if the original value is \"Rio Grande\", then it's very hard to correct this programmatically.\n",
    "\n",
    "Both improvements require a lot of effort. But the benefits are also huge."
   ]
  }
 ],
 "metadata": {
  "kernelspec": {
   "display_name": "Python 2",
   "language": "python",
   "name": "python2"
  },
  "language_info": {
   "codemirror_mode": {
    "name": "ipython",
    "version": 2
   },
   "file_extension": ".py",
   "mimetype": "text/x-python",
   "name": "python",
   "nbconvert_exporter": "python",
   "pygments_lexer": "ipython2",
   "version": "2.7.11"
  }
 },
 "nbformat": 4,
 "nbformat_minor": 0
}
